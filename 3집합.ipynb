{
  "nbformat": 4,
  "nbformat_minor": 0,
  "metadata": {
    "colab": {
      "provenance": [],
      "authorship_tag": "ABX9TyO5IZmXC8HPhbPldpMo3GGY",
      "include_colab_link": true
    },
    "kernelspec": {
      "name": "python3",
      "display_name": "Python 3"
    },
    "language_info": {
      "name": "python"
    }
  },
  "cells": [
    {
      "cell_type": "markdown",
      "metadata": {
        "id": "view-in-github",
        "colab_type": "text"
      },
      "source": [
        "<a href=\"https://colab.research.google.com/github/rodeu123/20232.rd/blob/main/3%EC%A7%91%ED%95%A9.ipynb\" target=\"_parent\"><img src=\"https://colab.research.google.com/assets/colab-badge.svg\" alt=\"Open In Colab\"/></a>"
      ]
    },
    {
      "cell_type": "code",
      "execution_count": 6,
      "metadata": {
        "colab": {
          "base_uri": "https://localhost:8080/"
        },
        "collapsed": true,
        "id": "z-s0yH0L0bIP",
        "outputId": "d85725db-5fea-466d-ddf0-3c14208c234f"
      },
      "outputs": [
        {
          "output_type": "stream",
          "name": "stdout",
          "text": [
            "{1, 2, 3}\n",
            "{2, 3, 4}\n",
            "{2, 3}\n",
            "{1, 2, 3, 4}\n",
            "{1}\n"
          ]
        }
      ],
      "source": [
        "s1=set([1,2,3])\n",
        "print(s1)\n",
        "s2=set([2,3,4])\n",
        "print(s2)\n",
        "\n",
        "print(s1 & s2)  #교집합- &\n",
        "print(s1 | s2)  #합집합- |\n",
        "print(s1 - s2)  #차집합- -"
      ]
    },
    {
      "cell_type": "code",
      "source": [],
      "metadata": {
        "id": "tNpc6NQE2ggR"
      },
      "execution_count": null,
      "outputs": []
    }
  ]
}