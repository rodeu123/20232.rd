{
  "nbformat": 4,
  "nbformat_minor": 0,
  "metadata": {
    "colab": {
      "provenance": [],
      "authorship_tag": "ABX9TyPFCAz9aOrEVXt+vb4mot3J",
      "include_colab_link": true
    },
    "kernelspec": {
      "name": "python3",
      "display_name": "Python 3"
    },
    "language_info": {
      "name": "python"
    }
  },
  "cells": [
    {
      "cell_type": "markdown",
      "metadata": {
        "id": "view-in-github",
        "colab_type": "text"
      },
      "source": [
        "<a href=\"https://colab.research.google.com/github/rodeu123/20232.rd/blob/main/3%EC%A7%91%ED%95%A9.ipynb\" target=\"_parent\"><img src=\"https://colab.research.google.com/assets/colab-badge.svg\" alt=\"Open In Colab\"/></a>"
      ]
    },
    {
      "cell_type": "code",
      "execution_count": null,
      "metadata": {
        "colab": {
          "base_uri": "https://localhost:8080/"
        },
        "collapsed": true,
        "id": "z-s0yH0L0bIP",
        "outputId": "d85725db-5fea-466d-ddf0-3c14208c234f"
      },
      "outputs": [
        {
          "output_type": "stream",
          "name": "stdout",
          "text": [
            "{1, 2, 3}\n",
            "{2, 3, 4}\n",
            "{2, 3}\n",
            "{1, 2, 3, 4}\n",
            "{1}\n"
          ]
        }
      ],
      "source": [
        "s1=set([1,2,3])\n",
        "print(s1)\n",
        "s2=set([2,3,4])\n",
        "print(s2)\n",
        "\n",
        "print(s1 & s2)  #교집합- &\n",
        "print(s1 | s2)  #합집합- |\n",
        "print(s1 - s2)  #차집합- -"
      ]
    },
    {
      "cell_type": "code",
      "source": [
        "bankA_customers = set([\"김철수\",\"이영희\",\"박민수\",\"최지우\"])\n",
        "bankB_customers = set([\"이영희\",\"최지우\",\"정우성\",\"한지민\"])\n",
        "\n",
        "print(\"은행 A고객:\", bankA_customers)\n",
        "print(\"은행 B고객:\", bankB_customers)\n",
        "\n",
        "# 합집합\n",
        "total_customers = bankA_customers | bankB_customers\n",
        "print(\"합병 후 전체 고객:\", total_customers)\n",
        "\n",
        "# 교집합\n",
        "common_customers = bankA_customers & bankB_customers\n",
        "print(\"공통 고객:\", common_customers)\n",
        "\n",
        "# 차집합\n",
        "only_A_customers = bankA_customers - bankB_customers\n",
        "print(\"A은행에만 있는 고객:\", only_A_customers)\n",
        "\n",
        "only_B_customers = bankB_customers - bankA_customers\n",
        "print(\"B은행에만 있는 고객:\", only_B_customers)\n"
      ],
      "metadata": {
        "id": "tNpc6NQE2ggR",
        "colab": {
          "base_uri": "https://localhost:8080/"
        },
        "outputId": "d4a846e4-9217-424c-f9db-f0341389f001"
      },
      "execution_count": 3,
      "outputs": [
        {
          "output_type": "stream",
          "name": "stdout",
          "text": [
            "은행 A고객: {'최지우', '김철수', '박민수', '이영희'}\n",
            "은행 B고객: {'정우성', '최지우', '한지민', '이영희'}\n",
            "합병 후 전체 고객: {'한지민', '박민수', '이영희', '최지우', '정우성', '김철수'}\n",
            "공통 고객: {'이영희', '최지우'}\n",
            "A은행에만 있는 고객: {'김철수', '박민수'}\n",
            "B은행에만 있는 고객: {'정우성', '한지민'}\n"
          ]
        }
      ]
    }
  ]
}