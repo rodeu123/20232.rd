{
  "nbformat": 4,
  "nbformat_minor": 0,
  "metadata": {
    "colab": {
      "provenance": [],
      "authorship_tag": "ABX9TyNML8R+BCTZCJ0BEPm1U4QD",
      "include_colab_link": true
    },
    "kernelspec": {
      "name": "python3",
      "display_name": "Python 3"
    },
    "language_info": {
      "name": "python"
    }
  },
  "cells": [
    {
      "cell_type": "markdown",
      "metadata": {
        "id": "view-in-github",
        "colab_type": "text"
      },
      "source": [
        "<a href=\"https://colab.research.google.com/github/rodeu123/20232.rd/blob/main/3%EC%A7%91%ED%95%A9.ipynb\" target=\"_parent\"><img src=\"https://colab.research.google.com/assets/colab-badge.svg\" alt=\"Open In Colab\"/></a>"
      ]
    },
    {
      "cell_type": "code",
      "execution_count": null,
      "metadata": {
        "colab": {
          "base_uri": "https://localhost:8080/"
        },
        "collapsed": true,
        "id": "z-s0yH0L0bIP",
        "outputId": "d85725db-5fea-466d-ddf0-3c14208c234f"
      },
      "outputs": [
        {
          "output_type": "stream",
          "name": "stdout",
          "text": [
            "{1, 2, 3}\n",
            "{2, 3, 4}\n",
            "{2, 3}\n",
            "{1, 2, 3, 4}\n",
            "{1}\n"
          ]
        }
      ],
      "source": [
        "s1=set([1,2,3])\n",
        "print(s1)\n",
        "s2=set([2,3,4])\n",
        "print(s2)\n",
        "\n",
        "print(s1 & s2)  #교집합- &\n",
        "print(s1 | s2)  #합집합- |\n",
        "print(s1 - s2)  #차집합- -"
      ]
    },
    {
      "cell_type": "code",
      "source": [
        "bankA_customers = set([\"김철수\",\"이영희\",\"박민수\",\"최지우\"])\n",
        "bankB_customers = set([\"이영희\",\"최지우\",\"정우성\",\"한지민\"])\n",
        "\n",
        "print(\"은행 A고객:\", bankA_customers)\n",
        "print(\"은행 B고객:\", bankB_customers)\n",
        "\n",
        "total_customers = bankA_customers + bankB_customers #합집합\n",
        "print(\"합병 후 전체 고객:\", total_customers)\n",
        "\n",
        "common_customers = bankA_customers & bankB_customers #교집합\n",
        "print(\"공통고객\",common_customers)\n",
        "\n",
        "only_A_customers = bankA_customers - bankB_customers #B차집합\n",
        "print(\"A은행에만 있는 고객\", only_A_customers)\n",
        "\n",
        "only_B_customers = bankB_customers - bankA_customers #A차집합\n",
        "print(\"B은행에만 있는 고객\", only_B_customers)\n",
        "\n",
        ""
      ],
      "metadata": {
        "id": "tNpc6NQE2ggR",
        "colab": {
          "base_uri": "https://localhost:8080/",
          "height": 255
        },
        "outputId": "3b46cabe-9b1b-4117-c027-0e2c2fa98781"
      },
      "execution_count": 2,
      "outputs": [
        {
          "output_type": "stream",
          "name": "stdout",
          "text": [
            "은행 A고객: {'최지우', '김철수', '박민수', '이영희'}\n",
            "은행 B고객: {'정우성', '최지우', '한지민', '이영희'}\n"
          ]
        },
        {
          "output_type": "error",
          "ename": "TypeError",
          "evalue": "unsupported operand type(s) for +: 'set' and 'set'",
          "traceback": [
            "\u001b[0;31m---------------------------------------------------------------------------\u001b[0m",
            "\u001b[0;31mTypeError\u001b[0m                                 Traceback (most recent call last)",
            "\u001b[0;32m/tmp/ipython-input-1747708031.py\u001b[0m in \u001b[0;36m<cell line: 0>\u001b[0;34m()\u001b[0m\n\u001b[1;32m      5\u001b[0m \u001b[0mprint\u001b[0m\u001b[0;34m(\u001b[0m\u001b[0;34m\"은행 B고객:\"\u001b[0m\u001b[0;34m,\u001b[0m \u001b[0mbankB_customers\u001b[0m\u001b[0;34m)\u001b[0m\u001b[0;34m\u001b[0m\u001b[0;34m\u001b[0m\u001b[0m\n\u001b[1;32m      6\u001b[0m \u001b[0;34m\u001b[0m\u001b[0m\n\u001b[0;32m----> 7\u001b[0;31m \u001b[0mtotal_customers\u001b[0m \u001b[0;34m=\u001b[0m \u001b[0mbankA_customers\u001b[0m \u001b[0;34m+\u001b[0m \u001b[0mbankB_customers\u001b[0m \u001b[0;31m#합집합\u001b[0m\u001b[0;34m\u001b[0m\u001b[0;34m\u001b[0m\u001b[0m\n\u001b[0m\u001b[1;32m      8\u001b[0m \u001b[0mprint\u001b[0m\u001b[0;34m(\u001b[0m\u001b[0;34m\"합병 후 전체 고객:\"\u001b[0m\u001b[0;34m,\u001b[0m \u001b[0mtotal_customers\u001b[0m\u001b[0;34m)\u001b[0m\u001b[0;34m\u001b[0m\u001b[0;34m\u001b[0m\u001b[0m\n\u001b[1;32m      9\u001b[0m \u001b[0;34m\u001b[0m\u001b[0m\n",
            "\u001b[0;31mTypeError\u001b[0m: unsupported operand type(s) for +: 'set' and 'set'"
          ]
        }
      ]
    }
  ]
}