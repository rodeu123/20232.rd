{
  "nbformat": 4,
  "nbformat_minor": 0,
  "metadata": {
    "colab": {
      "provenance": [],
      "authorship_tag": "ABX9TyNWnsUAMYlVoG/Vg4ZVEjPI",
      "include_colab_link": true
    },
    "kernelspec": {
      "name": "python3",
      "display_name": "Python 3"
    },
    "language_info": {
      "name": "python"
    }
  },
  "cells": [
    {
      "cell_type": "markdown",
      "metadata": {
        "id": "view-in-github",
        "colab_type": "text"
      },
      "source": [
        "<a href=\"https://colab.research.google.com/github/rodeu123/20232.rd/blob/main/%EC%9E%84%ED%95%98%EC%A7%84.ipynb\" target=\"_parent\"><img src=\"https://colab.research.google.com/assets/colab-badge.svg\" alt=\"Open In Colab\"/></a>"
      ]
    },
    {
      "cell_type": "code",
      "execution_count": null,
      "metadata": {
        "colab": {
          "base_uri": "https://localhost:8080/"
        },
        "collapsed": true,
        "id": "z-s0yH0L0bIP",
        "outputId": "d85725db-5fea-466d-ddf0-3c14208c234f"
      },
      "outputs": [
        {
          "output_type": "stream",
          "name": "stdout",
          "text": [
            "{1, 2, 3}\n",
            "{2, 3, 4}\n",
            "{2, 3}\n",
            "{1, 2, 3, 4}\n",
            "{1}\n"
          ]
        }
      ],
      "source": [
        "import numpy as np\n",
        "import networkx as nx\n",
        "import matplotlib.pyplot as plt"
      ]
    },
    {
      "cell_type": "code",
      "source": [
        "A={1,2,3}\n",
        "B={2,3,4}\n",
        "#A에서 B로 가는 이항 관계\n",
        "R = {(1,2),(2,3),(3,2),(3,4)}\n",
        "\n",
        "print(\"관계 R:\",R)"
      ],
      "metadata": {
        "id": "clqkx0j4rScx"
      },
      "execution_count": null,
      "outputs": []
    },
    {
      "cell_type": "code",
      "source": [
        "A_list = sorted(A)\n",
        "B_list = sorted(B)\n",
        "\n",
        "relation_matrix = np.zeros((len(A_list),len(B_list)),dtype=int)\n",
        "\n",
        "for i, a in enumerate(A_list):\n",
        "  for j, b in enumerate(B_list):\n",
        "    if (a,b) in R:\n",
        "      relation_matrix[i,j] = 1\n",
        "\n",
        "print(\"관계 행렬 (rows:A,colums:B):\")\n",
        "print(relation_matrix)"
      ],
      "metadata": {
        "id": "KG_FCAQLrj87"
      },
      "execution_count": null,
      "outputs": []
    },
    {
      "cell_type": "code",
      "source": [
        "# R: A->B\n",
        "# R: B->C\n",
        "C = {'x','y'}\n",
        "S = {(2,'x'),(3,'y'),(4,'x')}\n",
        "\n",
        "# 합성 관계 R ∘ S\n",
        "composed_relation = set()\n",
        "\n",
        "for (a,b1) in R;\n",
        "    for (b2,c) in S:\n",
        "        if b1 == b2:\n",
        "            composed_relation.add((a,c))\n",
        "\n",
        "print(\"\\n합성 관계 R ∘ S:\",composed_relation\n"
      ],
      "metadata": {
        "id": "mgl7nIoVsNqO"
      },
      "execution_count": null,
      "outputs": []
    }
  ]
}